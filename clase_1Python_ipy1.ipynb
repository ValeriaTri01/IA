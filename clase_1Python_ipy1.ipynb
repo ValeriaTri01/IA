{
  "nbformat": 4,
  "nbformat_minor": 0,
  "metadata": {
    "colab": {
      "provenance": [],
      "authorship_tag": "ABX9TyPzGrjRoDKPUMG1Z2pQzv5u",
      "include_colab_link": true
    },
    "kernelspec": {
      "name": "python3",
      "display_name": "Python 3"
    },
    "language_info": {
      "name": "python"
    }
  },
  "cells": [
    {
      "cell_type": "markdown",
      "metadata": {
        "id": "view-in-github",
        "colab_type": "text"
      },
      "source": [
        "<a href=\"https://colab.research.google.com/github/ValeriaTri01/IA/blob/main/clase_1Python_ipy1.ipynb\" target=\"_parent\"><img src=\"https://colab.research.google.com/assets/colab-badge.svg\" alt=\"Open In Colab\"/></a>"
      ]
    },
    {
      "cell_type": "code",
      "execution_count": null,
      "metadata": {
        "id": "WHUJNkhDtA2O",
        "colab": {
          "base_uri": "https://localhost:8080/"
        },
        "outputId": "60a32109-d404-42d4-d813-07a8d2136a4f"
      },
      "outputs": [
        {
          "output_type": "stream",
          "name": "stdout",
          "text": [
            "Python 3.10.12\n"
          ]
        }
      ],
      "source": [
        "!python --version\n"
      ]
    },
    {
      "cell_type": "code",
      "source": [
        "miVariable1 = 4"
      ],
      "metadata": {
        "id": "d1SPGNHubEnZ"
      },
      "execution_count": null,
      "outputs": []
    },
    {
      "cell_type": "code",
      "source": [
        "miVariable2 = 6"
      ],
      "metadata": {
        "id": "3EO0P2OYbFkr"
      },
      "execution_count": null,
      "outputs": []
    },
    {
      "cell_type": "code",
      "source": [
        "print(miVariable1+miVariable2)\n",
        "print(miVariable1-miVariable2)\n",
        "print(miVariable1*miVariable2)\n",
        "print(miVariable1/miVariable2)\n",
        "print(miVariable1^miVariable2)"
      ],
      "metadata": {
        "colab": {
          "base_uri": "https://localhost:8080/"
        },
        "id": "0A1UzBbHbH9r",
        "outputId": "918cc619-435e-4365-e461-31de76f1f0dc"
      },
      "execution_count": null,
      "outputs": [
        {
          "output_type": "stream",
          "name": "stdout",
          "text": [
            "10\n",
            "-2\n",
            "24\n",
            "0.6666666666666666\n",
            "2\n"
          ]
        }
      ]
    },
    {
      "cell_type": "code",
      "source": [
        "\n",
        "aux1 = True\n",
        "aux2 = False\n",
        "\n",
        "print(aux1 and aux2)\n",
        "print(aux1 or aux2)\n",
        "print(not aux1)\n"
      ],
      "metadata": {
        "colab": {
          "base_uri": "https://localhost:8080/"
        },
        "id": "d_wtXo04bLOE",
        "outputId": "fb0ff8c8-9e30-40a7-f107-3e9efd9e6c83"
      },
      "execution_count": null,
      "outputs": [
        {
          "output_type": "stream",
          "name": "stdout",
          "text": [
            "False\n",
            "True\n",
            "False\n"
          ]
        }
      ]
    },
    {
      "cell_type": "code",
      "source": [
        "presentar = \"My name is \"\n",
        "nombre = \"Valeria\"\n",
        "edad = \" and I'm 22 years old\"\n",
        "print(presentar.lower() , nombre , edad.upper())"
      ],
      "metadata": {
        "colab": {
          "base_uri": "https://localhost:8080/"
        },
        "id": "y1Npe4oebOIy",
        "outputId": "a34927af-f1bb-4fd1-ddde-cdf9fb33da86"
      },
      "execution_count": null,
      "outputs": [
        {
          "output_type": "stream",
          "name": "stdout",
          "text": [
            "my name is  Valeria  AND I'M 22 YEARS OLD\n"
          ]
        }
      ]
    },
    {
      "cell_type": "code",
      "source": [
        "tmp = 'Graciela, Crithian, Ximena, Pablo'\n",
        "print(tmp)\n",
        "print(tmp.split(','))\n"
      ],
      "metadata": {
        "colab": {
          "base_uri": "https://localhost:8080/"
        },
        "id": "ELIWlvL-bZr5",
        "outputId": "2fb3baea-050b-423d-b62b-a453ed2c5b48"
      },
      "execution_count": null,
      "outputs": [
        {
          "output_type": "stream",
          "name": "stdout",
          "text": [
            "Graciela, Crithian, Ximena, Pablo\n",
            "['Graciela', ' Crithian', ' Ximena', ' Pablo']\n"
          ]
        }
      ]
    },
    {
      "cell_type": "code",
      "source": [
        "from os import remove\n",
        "from pickle import APPEND\n",
        "listaUtiles=['computadora','regla','pincel','borrador','lapiz']\n",
        "print(listaUtiles)\n",
        "listaUtiles.append('computer')\n",
        "print(listaUtiles)\n",
        "#Así se comenta lienas de código en python\n",
        "#listaUtiles.pop(1)\n",
        "del listaUtiles[1]\n",
        "print(listaUtiles)"
      ],
      "metadata": {
        "colab": {
          "base_uri": "https://localhost:8080/"
        },
        "id": "hGrSn5UybnpB",
        "outputId": "893c84de-b421-49b6-c061-2a5610f28500"
      },
      "execution_count": null,
      "outputs": [
        {
          "output_type": "stream",
          "name": "stdout",
          "text": [
            "['computadora', 'regla', 'pincel', 'borrador', 'lapiz']\n",
            "['computadora', 'regla', 'pincel', 'borrador', 'lapiz', 'computer']\n",
            "['computadora', 'pincel', 'borrador', 'lapiz', 'computer']\n"
          ]
        }
      ]
    },
    {
      "cell_type": "code",
      "source": [
        "lista = ['borrador','borrador','borrador','borrador']\n",
        "lista.remove('borrador')\n",
        "print(lista)\n"
      ],
      "metadata": {
        "colab": {
          "base_uri": "https://localhost:8080/"
        },
        "id": "JnXgmF6Cb0ZL",
        "outputId": "c0ae328c-6030-4af7-adf0-04fa7520e9ae"
      },
      "execution_count": null,
      "outputs": [
        {
          "output_type": "stream",
          "name": "stdout",
          "text": [
            "['borrador', 'borrador', 'borrador']\n"
          ]
        }
      ]
    },
    {
      "cell_type": "code",
      "source": [
        "nuevaLista=list(range(15))\n",
        "print(nuevaLista)\n",
        "print(nuevaLista[4:11])\n",
        "print(nuevaLista[-3])\n",
        "print(nuevaLista[10:5])"
      ],
      "metadata": {
        "colab": {
          "base_uri": "https://localhost:8080/"
        },
        "id": "VXzCjb9kcA8Z",
        "outputId": "9feb714c-cf62-42a2-e80c-855fb21706fb"
      },
      "execution_count": null,
      "outputs": [
        {
          "output_type": "stream",
          "name": "stdout",
          "text": [
            "[0, 1, 2, 3, 4, 5, 6, 7, 8, 9, 10, 11, 12, 13, 14]\n",
            "[4, 5, 6, 7, 8, 9, 10]\n",
            "12\n",
            "[]\n"
          ]
        }
      ]
    },
    {
      "cell_type": "code",
      "source": [
        "miDiccionarioV = {'Graciela':'bonita', 'Cristhian':'Alto', 'Jamileth':''}\n",
        "\n",
        "print(type(miDiccionarioV))\n",
        "\n",
        "for key, value in miDiccionarioV.items():\n",
        "  print(f'key {key}, value {value}')\n",
        "  print('key %s, value %s'%(key,value))\n",
        "  print('the key value is: {} and the value is: {}'.format(key, value))\n",
        "miDiccionarioV['monkey']='so cute'\n",
        "\n",
        "print('------------------')\n",
        "print(miDiccionarioV)"
      ],
      "metadata": {
        "colab": {
          "base_uri": "https://localhost:8080/"
        },
        "id": "8tw_zyOycD1q",
        "outputId": "d6c51d2b-0fc1-4810-a7d8-cc778f51492b"
      },
      "execution_count": null,
      "outputs": [
        {
          "output_type": "stream",
          "name": "stdout",
          "text": [
            "<class 'dict'>\n",
            "key Graciela, value bonita\n",
            "key Graciela, value bonita\n",
            "the key value is: Graciela and the value is: bonita\n",
            "key Cristhian, value Alto\n",
            "key Cristhian, value Alto\n",
            "the key value is: Cristhian and the value is: Alto\n",
            "key Jamileth, value \n",
            "key Jamileth, value \n",
            "the key value is: Jamileth and the value is: \n",
            "------------------\n",
            "{'Graciela': 'bonita', 'Cristhian': 'Alto', 'Jamileth': '', 'monkey': 'so cute'}\n"
          ]
        }
      ]
    },
    {
      "cell_type": "code",
      "source": [],
      "metadata": {
        "id": "GtA5o6pDdpML"
      },
      "execution_count": null,
      "outputs": []
    }
  ]
}