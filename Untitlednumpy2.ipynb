{
  "nbformat": 4,
  "nbformat_minor": 0,
  "metadata": {
    "colab": {
      "provenance": [],
      "authorship_tag": "ABX9TyNk3WUbaSFek5He1vWxFQsD",
      "include_colab_link": true
    },
    "kernelspec": {
      "name": "python3",
      "display_name": "Python 3"
    },
    "language_info": {
      "name": "python"
    }
  },
  "cells": [
    {
      "cell_type": "markdown",
      "metadata": {
        "id": "view-in-github",
        "colab_type": "text"
      },
      "source": [
        "<a href=\"https://colab.research.google.com/github/ValeriaTri01/IA/blob/main/Untitlednumpy2.ipynb\" target=\"_parent\"><img src=\"https://colab.research.google.com/assets/colab-badge.svg\" alt=\"Open In Colab\"/></a>"
      ]
    },
    {
      "cell_type": "markdown",
      "source": [
        "Matriz"
      ],
      "metadata": {
        "id": "2MaxKhKnzFYk"
      }
    },
    {
      "cell_type": "code",
      "execution_count": null,
      "metadata": {
        "id": "7F8zX_7b9G6c"
      },
      "outputs": [],
      "source": [
        "import numpy as np"
      ]
    },
    {
      "cell_type": "code",
      "source": [
        "a = np.random.randint(1, 11, size=(3,4))\n",
        "b = np.random.randint(1, 11, size=(3,4))\n",
        "print(a)\n",
        "print(b)\n",
        "print(a.shape)\n",
        "print(a.shape)\n",
        "print ('adding numbers')\n",
        "print(a+b)\n",
        "print ('substracting numbers')\n",
        "print(a-b)\n",
        "print ('multiplicacion numbers')\n",
        "print(a*b)\n",
        "\n",
        "print ('multiplicacion numbers')\n",
        "print(np.add(a,b))\n",
        "print(np.multiply(a,b))\n",
        "\n",
        "print ('division numbers')\n",
        "print(np.add(a,b))\n",
        "print(np.divide(a,b))"
      ],
      "metadata": {
        "colab": {
          "base_uri": "https://localhost:8080/"
        },
        "id": "Rc0xZnk29ZHp",
        "outputId": "37ad91d2-f448-4047-e8a2-645b35b4ca97"
      },
      "execution_count": null,
      "outputs": [
        {
          "output_type": "stream",
          "name": "stdout",
          "text": [
            "[[10  9  3  2]\n",
            " [ 5  5  4  7]\n",
            " [ 7  7  9  9]]\n",
            "[[ 7  6 10  5]\n",
            " [ 8  1  6  8]\n",
            " [ 2  2  9 10]]\n",
            "(3, 4)\n",
            "(3, 4)\n",
            "adding numbers\n",
            "[[17 15 13  7]\n",
            " [13  6 10 15]\n",
            " [ 9  9 18 19]]\n",
            "substracting numbers\n",
            "[[ 3  3 -7 -3]\n",
            " [-3  4 -2 -1]\n",
            " [ 5  5  0 -1]]\n",
            "multiplicacion numbers\n",
            "[[70 54 30 10]\n",
            " [40  5 24 56]\n",
            " [14 14 81 90]]\n",
            "multiplicacion numbers\n",
            "[[17 15 13  7]\n",
            " [13  6 10 15]\n",
            " [ 9  9 18 19]]\n",
            "[[70 54 30 10]\n",
            " [40  5 24 56]\n",
            " [14 14 81 90]]\n",
            "division numbers\n",
            "[[17 15 13  7]\n",
            " [13  6 10 15]\n",
            " [ 9  9 18 19]]\n",
            "[[1.42857143 1.5        0.3        0.4       ]\n",
            " [0.625      5.         0.66666667 0.875     ]\n",
            " [3.5        3.5        1.         0.9       ]]\n"
          ]
        }
      ]
    },
    {
      "cell_type": "code",
      "source": [
        "a = np.random.randint(1, 11, size=(2,3))\n",
        "b = np.random.randint(1, 11, size=(3,4))\n",
        "print(a)\n",
        "print(np.dot(a,b))\n",
        "\n",
        "print(a)\n"
      ],
      "metadata": {
        "colab": {
          "base_uri": "https://localhost:8080/"
        },
        "id": "PcdJA-y49nYk",
        "outputId": "2cf00e08-d661-4940-c24a-623ba9c97e5b"
      },
      "execution_count": null,
      "outputs": [
        {
          "output_type": "stream",
          "name": "stdout",
          "text": [
            "[[8 3 8]\n",
            " [9 1 7]]\n",
            "[[126  62 109  76]\n",
            " [112  53  92  68]]\n",
            "[[8 3 8]\n",
            " [9 1 7]]\n"
          ]
        }
      ]
    },
    {
      "cell_type": "code",
      "source": [
        "a = np.random.randint(1, 11, size=(2,2))\n",
        "print(a.shape)\n",
        "print(type(a))\n",
        "print(a)\n",
        "print(a.T)"
      ],
      "metadata": {
        "colab": {
          "base_uri": "https://localhost:8080/"
        },
        "id": "2tfuYLQ29uNk",
        "outputId": "f3e43b8e-0c06-4005-c6b1-edc9c320d49a"
      },
      "execution_count": null,
      "outputs": [
        {
          "output_type": "stream",
          "name": "stdout",
          "text": [
            "(2, 2)\n",
            "<class 'numpy.ndarray'>\n",
            "[[6 1]\n",
            " [7 2]]\n",
            "[[6 7]\n",
            " [1 2]]\n"
          ]
        }
      ]
    },
    {
      "cell_type": "code",
      "source": [
        "a = np.random.randint(1, 11, size=(4,3))\n",
        "b = np.array([1,0,2])\n",
        "print(a.shape)\n",
        "print(b.shape)\n",
        "c=np.empty_like(a)\n",
        "print(a.shape)\n",
        "print(a)"
      ],
      "metadata": {
        "colab": {
          "base_uri": "https://localhost:8080/"
        },
        "id": "139mbqTF91D6",
        "outputId": "f9e7a93f-f78b-4b17-e93a-96c6aa80d5e6"
      },
      "execution_count": null,
      "outputs": [
        {
          "output_type": "stream",
          "name": "stdout",
          "text": [
            "(4, 3)\n",
            "(3,)\n",
            "(4, 3)\n",
            "[[ 9  5  5]\n",
            " [ 4  2  3]\n",
            " [ 7  4  9]\n",
            " [ 8 10 10]]\n"
          ]
        }
      ]
    },
    {
      "cell_type": "code",
      "source": [
        "for i in range(4):\n",
        "  c[1,:]=a[1,:]+b\n",
        "  print(a)\n",
        "  print(b)\n",
        "  print(c)"
      ],
      "metadata": {
        "colab": {
          "base_uri": "https://localhost:8080/"
        },
        "id": "jPFFAjb898PR",
        "outputId": "7d3df657-9095-49df-f13e-ae96bef907cb"
      },
      "execution_count": null,
      "outputs": [
        {
          "output_type": "stream",
          "name": "stdout",
          "text": [
            "[[ 9  5  5]\n",
            " [ 4  2  3]\n",
            " [ 7  4  9]\n",
            " [ 8 10 10]]\n",
            "[1 0 2]\n",
            "[[10  9  3]\n",
            " [ 5  2  5]\n",
            " [ 4  7  7]\n",
            " [ 7  9  9]]\n",
            "[[ 9  5  5]\n",
            " [ 4  2  3]\n",
            " [ 7  4  9]\n",
            " [ 8 10 10]]\n",
            "[1 0 2]\n",
            "[[10  9  3]\n",
            " [ 5  2  5]\n",
            " [ 4  7  7]\n",
            " [ 7  9  9]]\n",
            "[[ 9  5  5]\n",
            " [ 4  2  3]\n",
            " [ 7  4  9]\n",
            " [ 8 10 10]]\n",
            "[1 0 2]\n",
            "[[10  9  3]\n",
            " [ 5  2  5]\n",
            " [ 4  7  7]\n",
            " [ 7  9  9]]\n",
            "[[ 9  5  5]\n",
            " [ 4  2  3]\n",
            " [ 7  4  9]\n",
            " [ 8 10 10]]\n",
            "[1 0 2]\n",
            "[[10  9  3]\n",
            " [ 5  2  5]\n",
            " [ 4  7  7]\n",
            " [ 7  9  9]]\n"
          ]
        }
      ]
    },
    {
      "cell_type": "code",
      "source": [
        "valores=[1,2,3]\n",
        "a = np.full((6,3),valores)\n",
        "print(a)"
      ],
      "metadata": {
        "colab": {
          "base_uri": "https://localhost:8080/"
        },
        "id": "D9MxL8iR-Asr",
        "outputId": "020c3bc0-7918-4c19-ee33-c692a8143812"
      },
      "execution_count": null,
      "outputs": [
        {
          "output_type": "stream",
          "name": "stdout",
          "text": [
            "[[1 2 3]\n",
            " [1 2 3]\n",
            " [1 2 3]\n",
            " [1 2 3]\n",
            " [1 2 3]\n",
            " [1 2 3]]\n"
          ]
        }
      ]
    },
    {
      "cell_type": "code",
      "source": [
        "a = np.array([1,2,3])\n",
        "print(a)\n",
        "tmp=np.tile(a,(6,1))\n",
        "print(tmp)"
      ],
      "metadata": {
        "colab": {
          "base_uri": "https://localhost:8080/"
        },
        "id": "wbSY-LTu-DEC",
        "outputId": "ebe5aaec-5174-4d12-9af6-8e088ede1904"
      },
      "execution_count": null,
      "outputs": [
        {
          "output_type": "stream",
          "name": "stdout",
          "text": [
            "[1 2 3]\n",
            "[[1 2 3]\n",
            " [1 2 3]\n",
            " [1 2 3]\n",
            " [1 2 3]\n",
            " [1 2 3]\n",
            " [1 2 3]]\n"
          ]
        }
      ]
    },
    {
      "cell_type": "code",
      "source": [
        "a = np.random.randint(20,30, size=(6,6))\n",
        "print(a)"
      ],
      "metadata": {
        "colab": {
          "base_uri": "https://localhost:8080/"
        },
        "id": "IoWLcpOK-Hlp",
        "outputId": "9f75aa7b-e4cf-479a-ce64-5aa3d7d1ffd4"
      },
      "execution_count": null,
      "outputs": [
        {
          "output_type": "stream",
          "name": "stdout",
          "text": [
            "[[22 24 29 29 25 25]\n",
            " [21 25 24 25 22 22]\n",
            " [23 21 21 29 28 29]\n",
            " [29 28 24 20 28 29]\n",
            " [22 28 29 20 21 28]\n",
            " [28 25 22 27 28 25]]\n"
          ]
        }
      ]
    },
    {
      "cell_type": "code",
      "source": [
        "a = np.random.randint(20,31, size=(6,6))\n",
        "print(a)\n",
        "aux=np.mean(a)\n",
        "print(aux)"
      ],
      "metadata": {
        "colab": {
          "base_uri": "https://localhost:8080/"
        },
        "id": "r8Ks9sdq-J3D",
        "outputId": "8e1b2ce2-45dd-47c3-bd45-a96b20d5f441"
      },
      "execution_count": null,
      "outputs": [
        {
          "output_type": "stream",
          "name": "stdout",
          "text": [
            "[[28 21 24 27 21 27]\n",
            " [28 26 22 23 26 25]\n",
            " [29 29 28 29 23 27]\n",
            " [22 24 27 30 30 25]\n",
            " [27 22 21 20 23 24]\n",
            " [27 23 30 25 23 25]]\n",
            "25.305555555555557\n"
          ]
        }
      ]
    },
    {
      "cell_type": "code",
      "source": [
        "a = np.random.randint(0,10, size=(6,6))\n",
        "print(a)\n",
        "aux=np.mean(a)\n",
        "print(aux)"
      ],
      "metadata": {
        "id": "yWkjFiEV-OU_",
        "outputId": "d936eb91-1ba3-4d59-aa0d-fa08fcdbed9d",
        "colab": {
          "base_uri": "https://localhost:8080/"
        }
      },
      "execution_count": null,
      "outputs": [
        {
          "output_type": "stream",
          "name": "stdout",
          "text": [
            "[[4 5 7 2 5 1]\n",
            " [8 7 7 4 9 5]\n",
            " [9 8 1 6 8 8]\n",
            " [0 2 0 7 8 2]\n",
            " [2 5 7 1 5 5]\n",
            " [9 8 8 9 6 0]]\n",
            "5.222222222222222\n"
          ]
        }
      ]
    },
    {
      "cell_type": "code",
      "source": [
        "a = np.random.randint(0,10, size=(6,6))\n",
        "print(a)\n",
        "aux=np.mean(a)\n",
        "print(aux)\n",
        "\n",
        "print(a.mean(axis=1))"
      ],
      "metadata": {
        "id": "nJI3AFlL-SNP",
        "outputId": "3e6a424a-2d9d-4537-a08f-49a3089de08e",
        "colab": {
          "base_uri": "https://localhost:8080/"
        }
      },
      "execution_count": null,
      "outputs": [
        {
          "output_type": "stream",
          "name": "stdout",
          "text": [
            "[[0 3 2 2 8 5]\n",
            " [8 2 6 5 4 6]\n",
            " [6 0 8 6 6 1]\n",
            " [0 2 2 2 0 4]\n",
            " [3 6 1 2 8 0]\n",
            " [4 2 4 6 2 2]]\n",
            "3.5555555555555554\n",
            "[3.33333333 5.16666667 4.5        1.66666667 3.33333333 3.33333333]\n"
          ]
        }
      ]
    }
  ]
}