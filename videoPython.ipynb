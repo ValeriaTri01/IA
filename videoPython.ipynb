{
  "nbformat": 4,
  "nbformat_minor": 0,
  "metadata": {
    "colab": {
      "provenance": [],
      "authorship_tag": "ABX9TyMKkZrNgpSmlnk5WdZPm8XI",
      "include_colab_link": true
    },
    "kernelspec": {
      "name": "python3",
      "display_name": "Python 3"
    },
    "language_info": {
      "name": "python"
    }
  },
  "cells": [
    {
      "cell_type": "markdown",
      "metadata": {
        "id": "view-in-github",
        "colab_type": "text"
      },
      "source": [
        "<a href=\"https://colab.research.google.com/github/ValeriaTri01/IA/blob/main/videoPython.ipynb\" target=\"_parent\"><img src=\"https://colab.research.google.com/assets/colab-badge.svg\" alt=\"Open In Colab\"/></a>"
      ]
    },
    {
      "cell_type": "code",
      "source": [
        "!python"
      ],
      "metadata": {
        "colab": {
          "base_uri": "https://localhost:8080/"
        },
        "id": "YrhtR5cb-bPj",
        "outputId": "4b01a372-5b77-4fdb-cd85-f9997b3d2264"
      },
      "execution_count": null,
      "outputs": [
        {
          "metadata": {
            "tags": null
          },
          "name": "stdout",
          "output_type": "stream",
          "text": [
            "Python 3.10.12 (main, Jun 11 2023, 05:26:28) [GCC 11.4.0] on linux\n",
            "Type \"help\", \"copyright\", \"credits\" or \"license\" for more information.\n",
            ">>> "
          ]
        }
      ]
    },
    {
      "cell_type": "markdown",
      "source": [
        "TIPOS DE DATOS BASICOS\n"
      ],
      "metadata": {
        "id": "lyILttY1-mTc"
      }
    },
    {
      "cell_type": "code",
      "source": [
        "myVariableVa1=10\n",
        "myVariableVa2=2.3\n",
        "myVariableVa3='Cristhian'\n",
        "\n",
        "print(type(myVariableVa1))\n",
        "print(type(myVariableVa2))\n",
        "print(type(myVariableVa3))\n",
        "\n",
        "\n",
        "\n",
        "print(myVariableVa1+myVariableVa2)\n",
        "print(myVariableVa1*myVariableVa2)\n",
        "print(myVariableVa1**2)\n",
        "\n",
        "\n",
        "m1=True\n",
        "m2=False\n",
        "print(m1 and m2)\n",
        "print(m1 or m2)\n",
        "print(not m1)\n",
        "print(len(myVariableVa3))\n",
        "print(myVariableVa3.upper())\n",
        "print(myVariableVa3.lower())\n",
        "print(myVariableVa3.capitalize())\n"
      ],
      "metadata": {
        "id": "Y8lp4L0J-yqB"
      },
      "execution_count": null,
      "outputs": []
    },
    {
      "cell_type": "markdown",
      "source": [
        "LISTA"
      ],
      "metadata": {
        "id": "4sL9Pq6nCxzW"
      }
    },
    {
      "cell_type": "code",
      "source": [
        "\n",
        "VaList=list()\n",
        "VaList=['cuaderno',  'lapiz','borrador', 'pintura', 'mochila','regla',\n",
        "        'goma', True]\n",
        "print(VaList[4])\n",
        "print(VaList[7])\n",
        "print(len(VaList))\n",
        "print('--------------------')\n",
        "\n",
        "\n",
        "# for i in VaList:\n",
        "#   print(i)\n",
        "# print('--------------------')\n",
        "\n",
        "\n",
        "# VaList.append('regla')\n",
        "# for i in VaList:\n",
        "#   print(i)\n",
        "# VaList.pop(2)\n",
        "# print('--------------------')\n",
        "\n",
        "\n",
        "# for i in VaList:\n",
        "#   print(i)\n",
        "# print('--------------------')\n",
        "\n",
        "\n",
        "# # Slicing\n",
        "# print(VaList[1:5])\n",
        "\n",
        "# print(VaList[-1])\n",
        "\n",
        "print(VaList[0:3])\n",
        "\n",
        "\n",
        "\n",
        "\n",
        "\n",
        "\n",
        "\n",
        "\n",
        "\n",
        "\n",
        "\n",
        "\n"
      ],
      "metadata": {
        "colab": {
          "base_uri": "https://localhost:8080/"
        },
        "id": "SfpFsvZdCzjA",
        "outputId": "a6b661e8-2772-4de3-e4f4-d168c4ed1465"
      },
      "execution_count": null,
      "outputs": [
        {
          "output_type": "stream",
          "name": "stdout",
          "text": [
            "mochila\n",
            "True\n",
            "8\n",
            "--------------------\n",
            "['cuaderno', 'lapiz', 'borrador']\n"
          ]
        }
      ]
    },
    {
      "cell_type": "code",
      "source": [
        "\n",
        "d={'name':'Cristhian','age':36,'city':'El Carmen'}\n",
        "\n",
        "for key in d:\n",
        "  print(d[key])"
      ],
      "metadata": {
        "colab": {
          "base_uri": "https://localhost:8080/"
        },
        "id": "cZaCKIzcm-gy",
        "outputId": "2a781600-9a0b-46cf-b210-481483ec0dcd"
      },
      "execution_count": null,
      "outputs": [
        {
          "output_type": "stream",
          "name": "stdout",
          "text": [
            "Cristhian\n",
            "36\n",
            "El Carmen\n"
          ]
        }
      ]
    }
  ]
}