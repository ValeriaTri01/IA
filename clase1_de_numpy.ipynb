{
  "nbformat": 4,
  "nbformat_minor": 0,
  "metadata": {
    "colab": {
      "provenance": [],
      "authorship_tag": "ABX9TyOfuU1BVZuLElCw7XP8205d",
      "include_colab_link": true
    },
    "kernelspec": {
      "name": "python3",
      "display_name": "Python 3"
    },
    "language_info": {
      "name": "python"
    }
  },
  "cells": [
    {
      "cell_type": "markdown",
      "metadata": {
        "id": "view-in-github",
        "colab_type": "text"
      },
      "source": [
        "<a href=\"https://colab.research.google.com/github/ValeriaTri01/IA/blob/main/clase1_de_numpy.ipynb\" target=\"_parent\"><img src=\"https://colab.research.google.com/assets/colab-badge.svg\" alt=\"Open In Colab\"/></a>"
      ]
    },
    {
      "cell_type": "code",
      "execution_count": null,
      "metadata": {
        "colab": {
          "base_uri": "https://localhost:8080/"
        },
        "id": "mqTkbXgeziJ6",
        "outputId": "2bcdf694-e42e-4331-e644-860eb258a9a8"
      },
      "outputs": [
        {
          "output_type": "stream",
          "name": "stdout",
          "text": [
            "[1 2 4 5]\n",
            "(4,)\n",
            "[[1 2 3 4]\n",
            " [1 2 3 4]]\n",
            "(2, 4)\n",
            "<class 'numpy.ndarray'>\n",
            "[[0. 0. 0. 0.]\n",
            " [0. 0. 0. 0.]\n",
            " [0. 0. 0. 0.]\n",
            " [0. 0. 0. 0.]]\n",
            "[[5 5 5 5]\n",
            " [5 5 5 5]\n",
            " [5 5 5 5]\n",
            " [5 5 5 5]]\n",
            "[[1. 0. 0. 0.]\n",
            " [0. 1. 0. 0.]\n",
            " [0. 0. 1. 0.]\n",
            " [0. 0. 0. 1.]]\n",
            "--------------\n",
            "[[1. 1. 1. 1.]\n",
            " [1. 1. 1. 1.]\n",
            " [1. 1. 1. 1.]\n",
            " [1. 1. 1. 1.]]\n"
          ]
        }
      ],
      "source": [
        "import numpy as np\n",
        "aux=np.array([1,2,4,5])\n",
        "print(aux)\n",
        "print(aux.shape)\n",
        "\n",
        "aux=np.array([[1,2,3,4],[1,2,3,4]])\n",
        "print(aux)\n",
        "print(aux.shape)\n",
        "print(type(aux))\n",
        "\n",
        "\n",
        "\n",
        "tmp=np.zeros((4,4))\n",
        "print(tmp)\n",
        "\n",
        "tmp=np.full((4,4),5)\n",
        "print(tmp)\n",
        "\n",
        "\n",
        "tmp=np.eye(4,4)\n",
        "print(tmp)\n",
        "\n",
        "print('--------------')\n",
        "tmp=np.ones((4,4))\n",
        "print(tmp)\n"
      ]
    },
    {
      "cell_type": "code",
      "source": [
        "tmp=10*np.random.random((3,3))\n",
        "print(tmp)"
      ],
      "metadata": {
        "colab": {
          "base_uri": "https://localhost:8080/"
        },
        "id": "09XFOZ6Kz3DR",
        "outputId": "f43727dd-6622-4ef1-9994-42bd8ed8bb2a"
      },
      "execution_count": null,
      "outputs": [
        {
          "output_type": "stream",
          "name": "stdout",
          "text": [
            "[[1.34557803 2.66308037 5.89467329]\n",
            " [2.07610507 8.71949059 6.27382153]\n",
            " [8.84379385 0.57863251 4.84862336]]\n"
          ]
        }
      ]
    },
    {
      "cell_type": "code",
      "source": [
        "print(tmp [:2, :2])"
      ],
      "metadata": {
        "colab": {
          "base_uri": "https://localhost:8080/"
        },
        "id": "52N9E-koz6JK",
        "outputId": "e6637375-e6d4-4d0b-db6b-aca0bf250b60"
      },
      "execution_count": null,
      "outputs": [
        {
          "output_type": "stream",
          "name": "stdout",
          "text": [
            "[[1.34557803 2.66308037]\n",
            " [2.07610507 8.71949059]]\n"
          ]
        }
      ]
    },
    {
      "cell_type": "code",
      "source": [
        "print(tmp [:2, 1:3])"
      ],
      "metadata": {
        "colab": {
          "base_uri": "https://localhost:8080/"
        },
        "id": "kY9RTKxYz-Sy",
        "outputId": "9e95a8eb-863a-4275-a77b-9faae364adbe"
      },
      "execution_count": null,
      "outputs": [
        {
          "output_type": "stream",
          "name": "stdout",
          "text": [
            "[[2.66308037 5.89467329]\n",
            " [8.71949059 6.27382153]]\n"
          ]
        }
      ]
    },
    {
      "cell_type": "code",
      "source": [
        "print(tmp [1,1])\n",
        "print(tmp [2,2])"
      ],
      "metadata": {
        "colab": {
          "base_uri": "https://localhost:8080/"
        },
        "id": "SZz5oNsn0Bnj",
        "outputId": "8d3a06e2-3abf-4da7-b151-9b3eac832716"
      },
      "execution_count": null,
      "outputs": [
        {
          "output_type": "stream",
          "name": "stdout",
          "text": [
            "8.719490587817035\n",
            "4.848623364035496\n"
          ]
        }
      ]
    },
    {
      "cell_type": "code",
      "source": [
        "mask=tmp>5\n",
        "print(mask)\n",
        "\n",
        "mask=tmp>5\n",
        "print(tmp[mask])"
      ],
      "metadata": {
        "colab": {
          "base_uri": "https://localhost:8080/"
        },
        "id": "nH0pLY0j0F_w",
        "outputId": "11797bdf-f143-4de0-971f-2930d4cb78e1"
      },
      "execution_count": null,
      "outputs": [
        {
          "output_type": "stream",
          "name": "stdout",
          "text": [
            "[[False False  True]\n",
            " [False  True  True]\n",
            " [ True False False]]\n",
            "[5.89467329 8.71949059 6.27382153 8.84379385]\n"
          ]
        }
      ]
    },
    {
      "cell_type": "code",
      "source": [
        "mask =(tmp>=2)& (tmp<=4)\n",
        "print(tmp[mask])"
      ],
      "metadata": {
        "colab": {
          "base_uri": "https://localhost:8080/"
        },
        "id": "HidqIy_D0Kus",
        "outputId": "aaea3b99-9add-4d8b-bcae-fe06718ff0bf"
      },
      "execution_count": null,
      "outputs": [
        {
          "output_type": "stream",
          "name": "stdout",
          "text": [
            "[2.66308037 2.07610507]\n"
          ]
        }
      ]
    },
    {
      "cell_type": "code",
      "source": [
        "integer_array = np.random.randint(0, 10,(4,4))\n",
        "print(integer_array)"
      ],
      "metadata": {
        "colab": {
          "base_uri": "https://localhost:8080/"
        },
        "id": "ex8tBM4a0Pb4",
        "outputId": "7917db0f-c732-4afb-f0ff-e7d884bd5d4a"
      },
      "execution_count": null,
      "outputs": [
        {
          "output_type": "stream",
          "name": "stdout",
          "text": [
            "[[4 1 0 6]\n",
            " [1 4 7 7]\n",
            " [0 8 2 5]\n",
            " [2 4 1 9]]\n"
          ]
        }
      ]
    },
    {
      "cell_type": "code",
      "source": [
        "arreglo = np.random.randint(1, 101, size=(4,4))\n",
        "print(\"Arreglo original:\")\n",
        "print(arreglo)\n",
        "\n",
        "mascara_pares =arreglo % 2==0\n",
        "\n",
        "numeros_pares =[mascara_pares]\n",
        "\n",
        "print()"
      ],
      "metadata": {
        "id": "Me2No9GZ0SAc",
        "outputId": "7bf0f47d-5535-47f8-af6a-60fe9ffdf657",
        "colab": {
          "base_uri": "https://localhost:8080/"
        }
      },
      "execution_count": null,
      "outputs": [
        {
          "output_type": "stream",
          "name": "stdout",
          "text": [
            "Arreglo original:\n",
            "[[93 37 72  9]\n",
            " [42 69 53 43]\n",
            " [93 47  1 85]\n",
            " [48 32 96 27]]\n",
            "\n"
          ]
        }
      ]
    }
  ]
}