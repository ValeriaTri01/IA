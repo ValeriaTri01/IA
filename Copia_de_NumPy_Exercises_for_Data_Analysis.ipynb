{
  "nbformat": 4,
  "nbformat_minor": 0,
  "metadata": {
    "colab": {
      "provenance": [],
      "include_colab_link": true
    },
    "kernelspec": {
      "name": "python3",
      "display_name": "Python 3"
    },
    "language_info": {
      "name": "python"
    }
  },
  "cells": [
    {
      "cell_type": "markdown",
      "metadata": {
        "id": "view-in-github",
        "colab_type": "text"
      },
      "source": [
        "<a href=\"https://colab.research.google.com/github/ValeriaTri01/IA/blob/main/Copia_de_NumPy_Exercises_for_Data_Analysis.ipynb\" target=\"_parent\"><img src=\"https://colab.research.google.com/assets/colab-badge.svg\" alt=\"Open In Colab\"/></a>"
      ]
    },
    {
      "cell_type": "markdown",
      "source": [
        "NumPy Exercises for Data Analysis"
      ],
      "metadata": {
        "id": "hSsi2_-klame"
      }
    },
    {
      "cell_type": "code",
      "source": [
        "# Import numpy as np and see the version\n",
        "import numpy as np\n",
        "# your code here\n",
        "pass\n",
        "print(\"NumPy version:\", np.__version__)"
      ],
      "metadata": {
        "id": "kuK4TNepldem",
        "colab": {
          "base_uri": "https://localhost:8080/"
        },
        "outputId": "72d67d8a-0386-4a14-9936-6b38d44765b1"
      },
      "execution_count": null,
      "outputs": [
        {
          "output_type": "stream",
          "name": "stdout",
          "text": [
            "NumPy version: 1.23.5\n"
          ]
        }
      ]
    },
    {
      "cell_type": "code",
      "source": [
        "# Create a 1D array of numbers from 0 to 9\n",
        "# your code here\n",
        "array_1d = np.arange(10)\n",
        "print(array_1d)\n",
        "pass"
      ],
      "metadata": {
        "id": "hbYX-oMBlvS-",
        "colab": {
          "base_uri": "https://localhost:8080/"
        },
        "outputId": "f3e8c9c2-e76f-44f4-9f2c-a1ee9bcc1427"
      },
      "execution_count": null,
      "outputs": [
        {
          "output_type": "stream",
          "name": "stdout",
          "text": [
            "[0 1 2 3 4 5 6 7 8 9]\n"
          ]
        }
      ]
    },
    {
      "cell_type": "code",
      "source": [
        "# Create random vector of size 10 and replace the maximum value by 0\n",
        "\n",
        "# Create a random vector of size 10 crear el valor aletorio\n",
        "random_vector = np.random.rand(10)\n",
        "\n",
        "# Find the index of the maximum value in the vector valor maximo del vector\n",
        "max_index = np.argmax(random_vector)\n",
        "\n",
        "# Replace the maximum value with 0 remplezar el valor\n",
        "random_vector[max_index] = 0\n",
        "\n",
        "print(\"Random vector with the maximum value replaced by 0:\")\n",
        "print(random_vector)\n",
        "\n",
        "\n",
        "pass"
      ],
      "metadata": {
        "id": "HfsNmdvrwqsO",
        "colab": {
          "base_uri": "https://localhost:8080/"
        },
        "outputId": "194c22f7-dcb6-456f-e867-e7425c1836d8"
      },
      "execution_count": null,
      "outputs": [
        {
          "output_type": "stream",
          "name": "stdout",
          "text": [
            "Random vector with the maximum value replaced by 0:\n",
            "[0.86439707 0.10756816 0.         0.08609488 0.31146744 0.66414153\n",
            " 0.95750484 0.88604415 0.16563283 0.32251967]\n"
          ]
        }
      ]
    },
    {
      "cell_type": "code",
      "source": [
        "# Print the number 8 from the array below:\n",
        "# arr = np.array([[1,2,3,4,5], [6,7,8,9,10]])\n",
        "arr = np.array([[1, 2, 3, 4, 5], [6, 7, 8, 9, 10]])\n",
        "\n",
        "# Access and print the number 8\n",
        "number_8 = arr[1, 2]\n",
        "print(number_8)\n",
        "pass"
      ],
      "metadata": {
        "id": "a9T-W3uUoqcE",
        "colab": {
          "base_uri": "https://localhost:8080/"
        },
        "outputId": "e4b5f01c-e558-4a72-a0cc-6b09123d42e1"
      },
      "execution_count": null,
      "outputs": [
        {
          "output_type": "stream",
          "name": "stdout",
          "text": [
            "8\n"
          ]
        }
      ]
    },
    {
      "cell_type": "code",
      "source": [
        "# Print the numbers [3, 4, 5] from the array below:\n",
        "# arr = np.array([1,2,3,4,5,6,7])\n",
        "\n",
        "arr = np.array([1, 2, 3, 4, 5, 6, 7])\n",
        "\n",
        "# Use array indexing to extract the elements [3, 4, 5] estraer los elementos\n",
        "sub_array = arr[2:5]\n",
        "\n",
        "# Print the extracted sub-array\n",
        "print(sub_array)\n",
        "\n",
        "pass"
      ],
      "metadata": {
        "id": "PqvPijs8o2ub",
        "colab": {
          "base_uri": "https://localhost:8080/"
        },
        "outputId": "38afae18-3d6e-4747-fddc-6df94fe906c9"
      },
      "execution_count": null,
      "outputs": [
        {
          "output_type": "stream",
          "name": "stdout",
          "text": [
            "[3 4 5]\n"
          ]
        }
      ]
    },
    {
      "cell_type": "code",
      "source": [
        "# Print the last 4 numbers from the array below:\n",
        "# arr = np.array([1,2,3,4,5,6,7])\n",
        "\n",
        "arr = np.array([1, 2, 3, 4, 5, 6, 7])\n",
        "\n",
        "# extract the last 4 numbers  last ultimos\n",
        "last_four = arr[-4:]\n",
        "\n",
        "# Print the last 4 numbers\n",
        "print(last_four)\n",
        "pass"
      ],
      "metadata": {
        "id": "H5iUCizHpk0L",
        "colab": {
          "base_uri": "https://localhost:8080/"
        },
        "outputId": "b12f23de-195e-4628-bdb8-d69606cfc79c"
      },
      "execution_count": null,
      "outputs": [
        {
          "output_type": "stream",
          "name": "stdout",
          "text": [
            "[4 5 6 7]\n"
          ]
        }
      ]
    },
    {
      "cell_type": "code",
      "source": [
        "# Create a 3×3 numpy array of all True’s Crea una matriz numérica de 3 × 3 de todos los True\n",
        "# your code here\n",
        "\n",
        "array_of_trues = np.ones((3, 3), dtype=bool)\n",
        "\n",
        "print(array_of_trues)\n",
        "pass"
      ],
      "metadata": {
        "id": "C9nBztXhl9NA",
        "colab": {
          "base_uri": "https://localhost:8080/"
        },
        "outputId": "9003ef90-667f-48c8-b11f-734dd9fccf9b"
      },
      "execution_count": null,
      "outputs": [
        {
          "output_type": "stream",
          "name": "stdout",
          "text": [
            "[[ True  True  True]\n",
            " [ True  True  True]\n",
            " [ True  True  True]]\n"
          ]
        }
      ]
    },
    {
      "cell_type": "code",
      "source": [
        "# Extract all odd numbers from arr\n",
        "# your code here\n",
        "\n",
        "# Assuming you have a NumPy array named 'arr' Suponiendo que tienes una matriz NumPy llamada 'arr'\n",
        "arr = np.array([[1, 2, 3],\n",
        "                [4, 5, 6],\n",
        "                [7, 8, 9]])\n",
        "\n",
        "# Extract all odd numbers from arr Extraemos todos los números impares de arr\n",
        "odd_numbers = arr[arr % 2 != 0]\n",
        "print(odd_numbers)\n",
        "pass"
      ],
      "metadata": {
        "id": "W18lqbBwmIhw",
        "colab": {
          "base_uri": "https://localhost:8080/"
        },
        "outputId": "286b4556-3fa6-4365-bf17-2bc10ff137ff"
      },
      "execution_count": null,
      "outputs": [
        {
          "output_type": "stream",
          "name": "stdout",
          "text": [
            "[1 3 5 7 9]\n"
          ]
        }
      ]
    },
    {
      "cell_type": "code",
      "source": [
        "# Create a vector with values ranging from 10 to 49 (★☆☆) # Crea un vector con valores que van de 10 a 49\n",
        "\n",
        "result_vector = np.arange(10, 50)\n",
        "\n",
        "print(result_vector)\n",
        "pass\n"
      ],
      "metadata": {
        "id": "hA9iXCAwr55v",
        "colab": {
          "base_uri": "https://localhost:8080/"
        },
        "outputId": "f3d7e137-3855-4beb-bf74-25655c0e206b"
      },
      "execution_count": null,
      "outputs": [
        {
          "output_type": "stream",
          "name": "stdout",
          "text": [
            "[10 11 12 13 14 15 16 17 18 19 20 21 22 23 24 25 26 27 28 29 30 31 32 33\n",
            " 34 35 36 37 38 39 40 41 42 43 44 45 46 47 48 49]\n"
          ]
        }
      ]
    },
    {
      "cell_type": "code",
      "source": [
        "# Reverse a vector (first element becomes last) Invertir un vector (el primer elemento pasa a ser el último)\n",
        "\n",
        "# Suponiendo que tienes una matriz NumPy llamada 'original_vector'\n",
        "vector_original = np.array([1, 2, 3, 4, 5])\n",
        "\n",
        "# Invertir el vector\n",
        "vector_invertido = np.flip(vector_original)\n",
        "\n",
        "print(vector_invertido)\n",
        "pass"
      ],
      "metadata": {
        "id": "R-_IjeHyr83q",
        "colab": {
          "base_uri": "https://localhost:8080/"
        },
        "outputId": "9a932615-19e4-4c9a-d294-a15ed773c099"
      },
      "execution_count": null,
      "outputs": [
        {
          "output_type": "stream",
          "name": "stdout",
          "text": [
            "[5 4 3 2 1]\n"
          ]
        }
      ]
    },
    {
      "cell_type": "code",
      "source": [
        "#  Create a 10x10 array with random integer values and find the minimum and maximum values\n",
        "# Crea una matriz de 10x10 con valores enteros aleatorios y encuentra los valores mínimo y máximo\n",
        "\n",
        "# Create a 10x10 array with random integer values\n",
        "random_array = np.random.randint(low=0, high=100, size=(10, 10))\n",
        "\n",
        "# Find the minimum and maximum values in the array\n",
        "minimum_value = np.min(random_array)\n",
        "maximum_value = np.max(random_array)\n",
        "\n",
        "print(\"Random Array:\")\n",
        "print(random_array)\n",
        "print(\"\\nMinimum Value:\", minimum_value)\n",
        "print(\"Maximum Value:\", maximum_value)\n",
        "\n",
        "pass"
      ],
      "metadata": {
        "id": "rEWwl_weuq3B",
        "colab": {
          "base_uri": "https://localhost:8080/"
        },
        "outputId": "1beee9d2-51c2-42ed-94bc-c6261e5be455"
      },
      "execution_count": null,
      "outputs": [
        {
          "output_type": "stream",
          "name": "stdout",
          "text": [
            "Random Array:\n",
            "[[89 29 86  2 23 64 65 71 15 95]\n",
            " [69  9 83 98 96 45 99 70 44  8]\n",
            " [ 9 16 77 97 46 81 16 35 28  4]\n",
            " [32 60 61 59 21 57 74 77  0 60]\n",
            " [ 9 34 94 92 38 34 12 35 47 86]\n",
            " [91 25 10 89 66 14 63 41 22 74]\n",
            " [28 81 56 26  3 12 69 88 94 91]\n",
            " [17 52 40  8 40 99 30 49 24 32]\n",
            " [79 42 86 94 69 46 93 21 99 63]\n",
            " [75 35 42 28  8 45 97  6 76 49]]\n",
            "\n",
            "Minimum Value: 0\n",
            "Maximum Value: 99\n"
          ]
        }
      ]
    },
    {
      "cell_type": "code",
      "source": [
        "# Create a 3x3x3 array with random values\n",
        "random_3d_array = np.random.rand(3, 3, 3)\n",
        "\n",
        "print(random_3d_array)\n",
        "pass"
      ],
      "metadata": {
        "id": "KFy17KsvvSql",
        "colab": {
          "base_uri": "https://localhost:8080/"
        },
        "outputId": "e9c01b4d-9e50-4134-e782-6cf611bd7e25"
      },
      "execution_count": null,
      "outputs": [
        {
          "output_type": "stream",
          "name": "stdout",
          "text": [
            "[[[0.12345517 0.85505174 0.60093754]\n",
            "  [0.07603193 0.81307047 0.11699313]\n",
            "  [0.92062725 0.11824338 0.25584141]]\n",
            "\n",
            " [[0.66170271 0.91983366 0.74833901]\n",
            "  [0.8300788  0.89604702 0.86997602]\n",
            "  [0.68189467 0.63333051 0.46291561]]\n",
            "\n",
            " [[0.61602425 0.74832278 0.82015427]\n",
            "  [0.26545534 0.47970297 0.94347618]\n",
            "  [0.94799658 0.17242676 0.76999398]]]\n"
          ]
        }
      ]
    },
    {
      "cell_type": "code",
      "source": [
        "# Replace all odd numbers in arr with -1\n",
        "# your code here\n",
        "\n",
        "# Suponiendo que tienes una matriz NumPy llamada 'arr'\n",
        "arr = np.array([[1, 2, 3],\n",
        "                [4, 5, 6],\n",
        "                [7, 8, 9]])\n",
        "\n",
        "# Reemplazar todos los números impares en arr con -1\n",
        "arr[arr % 2 != 0] = -1\n",
        "\n",
        "print(arr)\n",
        "pass"
      ],
      "metadata": {
        "id": "X7ol3alqmbNa",
        "colab": {
          "base_uri": "https://localhost:8080/"
        },
        "outputId": "cbe88fa4-b27d-4aae-8da0-79554efda28c"
      },
      "execution_count": null,
      "outputs": [
        {
          "output_type": "stream",
          "name": "stdout",
          "text": [
            "[[-1  2 -1]\n",
            " [ 4 -1  6]\n",
            " [-1  8 -1]]\n"
          ]
        }
      ]
    },
    {
      "cell_type": "code",
      "source": [
        "# Create an array of type float\n",
        "# Crea una matriz de tipo float\n",
        "\n",
        "float_array = np.array([1.0, 2.5, 3.7], dtype=float)\n",
        "\n",
        "print(float_array)\n",
        "pass"
      ],
      "metadata": {
        "id": "GwdXYn9HqYTL",
        "colab": {
          "base_uri": "https://localhost:8080/"
        },
        "outputId": "f85b61b7-10e5-46dc-c473-1d70bd21a346"
      },
      "execution_count": null,
      "outputs": [
        {
          "output_type": "stream",
          "name": "stdout",
          "text": [
            "[1.  2.5 3.7]\n"
          ]
        }
      ]
    },
    {
      "cell_type": "code",
      "source": [
        "# Convert a 1D array to a 2D array with 2 rows: # Convertir una matriz 1D en una matriz 2D con 2 filas\n",
        "# your code here\n",
        "\n",
        "# Suponiendo que tienes una matriz 1D llamada 'original_array'\n",
        "original_array = np.array([1, 2, 3, 4, 5, 6, 7, 8])\n",
        "\n",
        "# Convertir la matriz 1D a una matriz 2D con 2 filas\n",
        "reshaped_array = np.reshape(original_array, (2, -1))\n",
        "print(reshaped_array)\n",
        "pass"
      ],
      "metadata": {
        "id": "LvcL1lUYoPjN",
        "colab": {
          "base_uri": "https://localhost:8080/"
        },
        "outputId": "dbc9ea5a-a04d-4748-efeb-0b8fbcaa0c9b"
      },
      "execution_count": null,
      "outputs": [
        {
          "output_type": "stream",
          "name": "stdout",
          "text": [
            "[[1 2 3 4]\n",
            " [5 6 7 8]]\n"
          ]
        }
      ]
    },
    {
      "cell_type": "code",
      "source": [
        "# How to find common values between two arrays?\n",
        "\n",
        "# Z1 = np.random.randint(0,10,10)\n",
        "# Z2 = np.random.randint(0,10,10)\n",
        "\n",
        "# Given arrays matrices dadas\n",
        "Z1 = np.random.randint(0, 10, 10)\n",
        "Z2 = np.random.randint(0, 10, 10)\n",
        "\n",
        "# Find common values between Z1 and Z2  Encuentra valores comunes entre Z1 y Z2\n",
        "common_values = np.intersect1d(Z1, Z2)\n",
        "\n",
        "print(\"Z1:\", Z1)\n",
        "print(\"Z2:\", Z2)\n",
        "print(\"Common Values:\", common_values)\n",
        "pass"
      ],
      "metadata": {
        "id": "VbzMDKQvv0DX",
        "colab": {
          "base_uri": "https://localhost:8080/"
        },
        "outputId": "5e6555b8-3556-488a-8105-bd6f8db03429"
      },
      "execution_count": null,
      "outputs": [
        {
          "output_type": "stream",
          "name": "stdout",
          "text": [
            "Z1: [0 4 6 3 5 7 9 1 3 9]\n",
            "Z2: [9 6 2 6 8 2 6 2 2 7]\n",
            "Common Values: [6 7 9]\n"
          ]
        }
      ]
    },
    {
      "cell_type": "code",
      "source": [
        "#  Consider two random array A and B, check if they are equal\n",
        "\n",
        "\n",
        "# A = np.random.randint(0,2,5)\n",
        "# B = np.random.randint(0,2,5)\n",
        "\n",
        "\n",
        "# Given arrays\n",
        "A = np.random.randint(0, 2, 5)\n",
        "B = np.random.randint(0, 2, 5)\n",
        "\n",
        "# Check if arrays A and B are equal comprobar si los arreglo A y B son iguales\n",
        "are_equal = np.array_equal(A, B)\n",
        "\n",
        "print(\"A:\", A)\n",
        "print(\"B:\", B)\n",
        "\n",
        "if are_equal:\n",
        "    print(\"Arrays A and B are equal.\")\n",
        "else:\n",
        "    print(\"Arrays A and B are not equal.\")\n",
        "\n",
        "\n",
        "pass"
      ],
      "metadata": {
        "id": "RWWspnDAwWGV",
        "colab": {
          "base_uri": "https://localhost:8080/"
        },
        "outputId": "6b0b2404-6d3f-48aa-b418-bf940bf2b0fa"
      },
      "execution_count": null,
      "outputs": [
        {
          "output_type": "stream",
          "name": "stdout",
          "text": [
            "A: [0 1 1 0 0]\n",
            "B: [1 0 1 0 0]\n",
            "Arrays A and B are not equal.\n"
          ]
        }
      ]
    },
    {
      "cell_type": "code",
      "source": [
        "# Stack arrays a and b vertically aplicar los arreglos a y b veryicalmente\n",
        "# your code here\n",
        "\n",
        "\n",
        "# Assuming you have two arrays 'a' and 'b' suponiendo que tienes dos matrices a y b\n",
        "a = np.array([1, 2, 3])\n",
        "b = np.array([4, 5, 6])\n",
        "\n",
        "# Stack arrays 'a' and 'b' vertically\n",
        "stacked_array = np.vstack((a, b))\n",
        "\n",
        "print(\"Array 'a':\", a)\n",
        "print(\"Array 'b':\", b)\n",
        "print(\"Stacked Array (Vertically):\")\n",
        "print(stacked_array)\n",
        "\n",
        "pass"
      ],
      "metadata": {
        "id": "SW3KvPXhoeie",
        "colab": {
          "base_uri": "https://localhost:8080/"
        },
        "outputId": "df36987c-8d98-4b14-c324-531d226aab7f"
      },
      "execution_count": null,
      "outputs": [
        {
          "output_type": "stream",
          "name": "stdout",
          "text": [
            "Array 'a': [1 2 3]\n",
            "Array 'b': [4 5 6]\n",
            "Stacked Array (Vertically):\n",
            "[[1 2 3]\n",
            " [4 5 6]]\n"
          ]
        }
      ]
    },
    {
      "cell_type": "code",
      "source": [
        "# Stack the arrays a and b horizontally. aplicar los arreglos a y b horizontal\n",
        "# your code here\n",
        "\n",
        "\n",
        "# Assuming you have two arrays 'a' and 'b'\n",
        "a = np.array([1, 2, 3])\n",
        "b = np.array([4, 5, 6])\n",
        "\n",
        "# Stack arrays 'a' and 'b' horizontally\n",
        "stacked_array = np.hstack((a, b))\n",
        "\n",
        "print(\"Array 'a':\", a)\n",
        "print(\"Array 'b':\", b)\n",
        "print(\"Stacked Array (Horizontally):\", stacked_array)\n",
        "\n",
        "pass"
      ],
      "metadata": {
        "id": "6wVOpIT9omwe",
        "colab": {
          "base_uri": "https://localhost:8080/"
        },
        "outputId": "5b4c25f2-b281-43a0-b430-28430a45d1b9"
      },
      "execution_count": null,
      "outputs": [
        {
          "output_type": "stream",
          "name": "stdout",
          "text": [
            "Array 'a': [1 2 3]\n",
            "Array 'b': [4 5 6]\n",
            "Stacked Array (Horizontally): [1 2 3 4 5 6]\n"
          ]
        }
      ]
    },
    {
      "cell_type": "code",
      "source": [
        "# Get all items between 5 and 10 from array tmp.\n",
        "# your code here\n",
        "import numpy as np\n",
        "tmp = np.arange(15)\n",
        "\n",
        "# Obtener todos los elementos entre 5 y 10 del array tmp\n",
        "resultado = tmp[(tmp >= 5) & (tmp <= 10)]\n",
        "\n",
        "print(resultado)\n",
        "# pass"
      ],
      "metadata": {
        "id": "L_7vMkGOo0gX",
        "colab": {
          "base_uri": "https://localhost:8080/"
        },
        "outputId": "22b9efeb-a389-4a53-8cfa-262859b89347"
      },
      "execution_count": null,
      "outputs": [
        {
          "output_type": "stream",
          "name": "stdout",
          "text": [
            "[ 5  6  7  8  9 10]\n"
          ]
        }
      ]
    },
    {
      "cell_type": "code",
      "source": [
        "# How to make a python function that handles scalars to work on numpy arrays?\n",
        "# Hint\n",
        "# Desired Output:\n",
        "# a = np.array([5, 7, 9, 8, 6, 4, 5])\n",
        "# b = np.array([6, 3, 4, 8, 9, 7, 1])\n",
        "# pair_max(a, b)\n",
        "# #> array([ 6.,  7.,  9.,  8.,  9.,  7.,  5.])\n",
        "\n",
        "\n",
        "# your code here\n",
        "import numpy as np\n",
        "\n",
        "def maxx(x, y):\n",
        "    \"\"\"Get the maximum of two items\"\"\"\n",
        "    if x >= y:\n",
        "        return x\n",
        "    else:\n",
        "        return y\n",
        "\n",
        "maxx(1, 5)\n"
      ],
      "metadata": {
        "colab": {
          "base_uri": "https://localhost:8080/"
        },
        "id": "FVZz6ZY0p9ya",
        "outputId": "08b87523-44fc-4a39-cd74-3a2199e84f83"
      },
      "execution_count": null,
      "outputs": [
        {
          "output_type": "execute_result",
          "data": {
            "text/plain": [
              "5"
            ]
          },
          "metadata": {},
          "execution_count": 23
        }
      ]
    },
    {
      "cell_type": "code",
      "source": [
        "# Swap columns 1 and 2 in the array arr.\n",
        "# Hint\n",
        "# Desired Output:\n",
        "# [[0 2 1]\n",
        "#  [3 5 4]\n",
        "#  [6 8 7]]\n",
        "\n",
        "\n",
        "arr = np.arange(9).reshape(3,3)\n",
        "print(arr)\n",
        "# your code here\n",
        "pass\n"
      ],
      "metadata": {
        "colab": {
          "base_uri": "https://localhost:8080/"
        },
        "outputId": "6ff5c0dc-4a1d-4fb1-84f9-6dd80fbe7f94",
        "id": "8vIzM5e8ql6i"
      },
      "execution_count": null,
      "outputs": [
        {
          "output_type": "stream",
          "name": "stdout",
          "text": [
            "[[0 1 2]\n",
            " [3 4 5]\n",
            " [6 7 8]]\n"
          ]
        }
      ]
    },
    {
      "cell_type": "code",
      "source": [
        "# Create a 2D array of shape 5x3 to contain random decimal numbers between 5 and 10.\n",
        "# Hint\n",
        "# The desired Output should be like the following one:\n",
        "#  [[ 8.50061025  9.10531502  6.85867783]\n",
        "#   [ 9.76262069  9.87717411  7.13466701]\n",
        "#   [ 7.48966403  8.33409158  6.16808631]\n",
        "#   [ 7.75010551  9.94535696  5.27373226]\n",
        "#   [ 8.0850361   5.56165518  7.31244004]]\n",
        "\n",
        "# Establecer una semilla para reproducibilidad (opcional)\n",
        "np.random.seed(42)\n",
        "\n",
        "# Crear una matriz 2D de tamaño 5x3 con números decimales aleatorios entre 5 y 10\n",
        "matriz_aleatoria = np.random.uniform(5, 10, size=(5, 3))\n",
        "\n",
        "# Imprimir la matriz resultante\n",
        "print(matriz_aleatoria)"
      ],
      "metadata": {
        "id": "FOXX5b17rY7E",
        "colab": {
          "base_uri": "https://localhost:8080/"
        },
        "outputId": "ee90965a-e4f9-4244-cfa1-a4fc3cca3355"
      },
      "execution_count": null,
      "outputs": [
        {
          "output_type": "stream",
          "name": "stdout",
          "text": [
            "[[6.87270059 9.75357153 8.65996971]\n",
            " [7.99329242 5.7800932  5.7799726 ]\n",
            " [5.29041806 9.33088073 8.00557506]\n",
            " [8.54036289 5.10292247 9.84954926]\n",
            " [9.1622132  6.06169555 5.90912484]]\n"
          ]
        }
      ]
    }
  ]
}